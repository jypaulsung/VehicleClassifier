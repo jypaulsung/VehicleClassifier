{
 "cells": [
  {
   "cell_type": "code",
   "execution_count": 3,
   "metadata": {},
   "outputs": [],
   "source": [
    "import numpy as np\n",
    "import matplotlib.pyplot as plt\n",
    "import os\n",
    "import cv2\n",
    "from tqdm import tqdm"
   ]
  },
  {
   "cell_type": "code",
   "execution_count": 4,
   "metadata": {},
   "outputs": [],
   "source": [
    "from keras.preprocessing.image import ImageDataGenerator, array_to_img, img_to_array, load_img\n",
    "\n",
    "datagen = ImageDataGenerator(\n",
    "        rotation_range=40,\n",
    "        width_shift_range=0.2,\n",
    "        height_shift_range=0.2,\n",
    "        rescale=1./255,\n",
    "        shear_range=0.2,\n",
    "        zoom_range=0.2,\n",
    "        horizontal_flip=True,\n",
    "        fill_mode='nearest')"
   ]
  },
  {
   "cell_type": "code",
   "execution_count": 7,
   "metadata": {},
   "outputs": [],
   "source": [
    "DATADIR = \"C:/Users/jungy/OneDrive/KHU/Software Convergence 101/images\"\n",
    "\n",
    "CATEGORIES = [\"bus\", \"motorcycle\", \"sedan\", \"suv\", \"truck\"]\n",
    "\n",
    "for category in CATEGORIES: \n",
    "    path = os.path.join(DATADIR,category)  \n",
    "    for img in os.listdir(path):\n",
    "        try:\n",
    "            img = load_img(path + '/' + img)  \n",
    "            x = img_to_array(img)  \n",
    "            x = x.reshape((1,) + x.shape)  \n",
    "            i = 0\n",
    "            for batch in datagen.flow(x, batch_size = 1, save_to_dir = path, save_prefix = category, save_format = 'jpg'):\n",
    "                i +=1\n",
    "                if i > 1:\n",
    "                    break\n",
    "        except Exception as e:\n",
    "            pass\n",
    "\n",
    "                "
   ]
  },
  {
   "cell_type": "code",
   "execution_count": 8,
   "metadata": {},
   "outputs": [
    {
     "name": "stdout",
     "output_type": "stream",
     "text": [
      "(269, 480)\n"
     ]
    }
   ],
   "source": [
    "DATADIR = \"C:/Users/jungy/OneDrive/KHU/Software Convergence 101/images\"\n",
    "\n",
    "CATEGORIES = [\"bicycle\", \"bus\", \"motorcycle\", \"sedan\", \"suv\", \"truck\"]\n",
    "\n",
    "for category in CATEGORIES: \n",
    "    path = os.path.join(DATADIR,category)  \n",
    "    for img in os.listdir(path): \n",
    "        img_array = cv2.imread(os.path.join(path,img) ,cv2.IMREAD_GRAYSCALE)\n",
    "\n",
    "print(img_array.shape)\n",
    "        \n"
   ]
  },
  {
   "cell_type": "code",
   "execution_count": 34,
   "metadata": {},
   "outputs": [
    {
     "data": {
      "image/png": "[encoded data removed]",
      "text/plain": [
       "<Figure size 432x288 with 1 Axes>"
      ]
     },
     "metadata": {
      "needs_background": "light"
     },
     "output_type": "display_data"
    }
   ],
   "source": [
    "IMG_SIZE = 100\n",
    "\n",
    "new_array = cv2.resize(img_array, (IMG_SIZE, IMG_SIZE))\n",
    "plt.imshow(new_array, cmap = 'gray')\n",
    "plt.show()"
   ]
  },
  {
   "cell_type": "code",
   "execution_count": 35,
   "metadata": {},
   "outputs": [],
   "source": [
    "training_data = []\n",
    "\n",
    "def create_training_data():\n",
    "    for category in CATEGORIES: \n",
    "        path = os.path.join(DATADIR,category)\n",
    "        class_num = CATEGORIES.index(category)\n",
    "        for img in os.listdir(path):  \n",
    "            try:\n",
    "                img_array = cv2.imread(os.path.join(path,img) ,cv2.IMREAD_GRAYSCALE)\n",
    "                new_array = cv2.resize(img_array, (IMG_SIZE, IMG_SIZE))\n",
    "                training_data.append([new_array, class_num])\n",
    "            except Exception as e:\n",
    "                pass\n",
    "\n",
    "create_training_data()\n",
    "        "
   ]
  },
  {
   "cell_type": "code",
   "execution_count": 36,
   "metadata": {},
   "outputs": [
    {
     "name": "stdout",
     "output_type": "stream",
     "text": [
      "8860\n"
     ]
    }
   ],
   "source": [
    "print(len(training_data))"
   ]
  },
  {
   "cell_type": "code",
   "execution_count": 37,
   "metadata": {},
   "outputs": [],
   "source": [
    "import random\n",
    "\n",
    "random.shuffle(training_data)"
   ]
  },
  {
   "cell_type": "code",
   "execution_count": 38,
   "metadata": {},
   "outputs": [],
   "source": [
    "X = []\n",
    "Y = []\n",
    "\n",
    "for features, label in training_data:\n",
    "    X.append(features)\n",
    "    Y.append(label)\n",
    "    \n",
    "X = np.array(X).reshape(-1, IMG_SIZE, IMG_SIZE, 1)\n",
    "Y = np.array(Y)"
   ]
  },
  {
   "cell_type": "code",
   "execution_count": 39,
   "metadata": {},
   "outputs": [],
   "source": [
    "import pickle\n",
    "\n",
    "pickle_out = open(\"X.pickle\", \"wb\")\n",
    "pickle.dump(X, pickle_out)\n",
    "pickle_out.close()\n",
    "\n",
    "pickle_out = open(\"Y.pickle\", \"wb\")\n",
    "pickle.dump(Y, pickle_out)\n",
    "pickle_out.close()"
   ]
  },
  {
   "cell_type": "code",
   "execution_count": 42,
   "metadata": {},
   "outputs": [
    {
     "name": "stdout",
     "output_type": "stream",
     "text": [
      "Epoch 1/10\n",
      "250/250 [==============================] - 236s 943ms/step - loss: 3.1487e-07 - accuracy: 0.1431 - val_loss: 3.2762e-07 - val_accuracy: 0.1377\n",
      "Epoch 2/10\n",
      "250/250 [==============================] - 234s 935ms/step - loss: 3.1487e-07 - accuracy: 0.1431 - val_loss: 3.2762e-07 - val_accuracy: 0.1377\n",
      "Epoch 3/10\n",
      "250/250 [==============================] - 235s 942ms/step - loss: 3.1487e-07 - accuracy: 0.1431 - val_loss: 3.2762e-07 - val_accuracy: 0.1377\n",
      "Epoch 4/10\n",
      "250/250 [==============================] - 251s 1s/step - loss: 3.1487e-07 - accuracy: 0.1431 - val_loss: 3.2762e-07 - val_accuracy: 0.1377\n",
      "Epoch 5/10\n",
      "250/250 [==============================] - 254s 1s/step - loss: 3.1487e-07 - accuracy: 0.1431 - val_loss: 3.2762e-07 - val_accuracy: 0.1377\n",
      "Epoch 6/10\n",
      "250/250 [==============================] - 254s 1s/step - loss: 3.1487e-07 - accuracy: 0.1431 - val_loss: 3.2762e-07 - val_accuracy: 0.1377\n",
      "Epoch 7/10\n",
      "250/250 [==============================] - 255s 1s/step - loss: 3.1487e-07 - accuracy: 0.1431 - val_loss: 3.2762e-07 - val_accuracy: 0.1377\n",
      "Epoch 8/10\n",
      "250/250 [==============================] - 278s 1s/step - loss: 3.1487e-07 - accuracy: 0.1431 - val_loss: 3.2762e-07 - val_accuracy: 0.1377\n",
      "Epoch 9/10\n",
      "250/250 [==============================] - 267s 1s/step - loss: 3.1487e-07 - accuracy: 0.1431 - val_loss: 3.2762e-07 - val_accuracy: 0.1377\n",
      "Epoch 10/10\n",
      "250/250 [==============================] - 244s 975ms/step - loss: 3.1487e-07 - accuracy: 0.1431 - val_loss: 3.2762e-07 - val_accuracy: 0.1377\n"
     ]
    },
    {
     "data": {
      "text/plain": [
       "<tensorflow.python.keras.callbacks.History at 0x21fe59d1a88>"
      ]
     },
     "execution_count": 42,
     "metadata": {},
     "output_type": "execute_result"
    }
   ],
   "source": [
    "import tensorflow as tf\n",
    "from tensorflow.keras.datasets import cifar10\n",
    "from tensorflow.keras.preprocessing.image import ImageDataGenerator\n",
    "from tensorflow.keras.models import Sequential\n",
    "from tensorflow.keras.layers import Dense, Dropout, Activation, Flatten\n",
    "from tensorflow.keras.layers import Conv2D, MaxPooling2D\n",
    "\n",
    "pickle_in = open(\"X.pickle\",\"rb\")\n",
    "X = pickle.load(pickle_in)\n",
    "\n",
    "pickle_in = open(\"Y.pickle\",\"rb\")\n",
    "Y = pickle.load(pickle_in)\n",
    "\n",
    "X = X/255.0\n",
    "\n",
    "model = Sequential()\n",
    "\n",
    "model.add(Conv2D(256, (3, 3), input_shape=X.shape[1:]))\n",
    "model.add(Activation('relu'))\n",
    "model.add(MaxPooling2D(pool_size=(2, 2)))\n",
    "\n",
    "model.add(Conv2D(256, (3, 3)))\n",
    "model.add(Activation('relu'))\n",
    "model.add(MaxPooling2D(pool_size=(2, 2)))\n",
    "\n",
    "model.add(Flatten())\n",
    "\n",
    "model.add(Dense(64))\n",
    "\n",
    "model.add(Dense(1))\n",
    "model.add(Activation('sigmoid'))\n",
    "\n",
    "model.compile(loss='categorical_crossentropy',\n",
    "              optimizer='adam',\n",
    "              metrics=['accuracy'])\n",
    "\n",
    "model.fit(X, Y, batch_size=32, epochs=10, validation_split=0.1)"
   ]
  },
  {
   "cell_type": "code",
   "execution_count": null,
   "metadata": {},
   "outputs": [],
   "source": []
  },
  {
   "cell_type": "code",
   "execution_count": null,
   "metadata": {},
   "outputs": [],
   "source": []
  }
 ],
 "metadata": {
  "kernelspec": {
   "display_name": "Python 3 (ipykernel)",
   "language": "python",
   "name": "python3"
  },
  "language_info": {
   "codemirror_mode": {
    "name": "ipython",
    "version": 3
   },
   "file_extension": ".py",
   "mimetype": "text/x-python",
   "name": "python",
   "nbconvert_exporter": "python",
   "pygments_lexer": "ipython3",
   "version": "3.11.5"
  }
 },
 "nbformat": 4,
 "nbformat_minor": 4
}
