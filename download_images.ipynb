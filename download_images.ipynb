{
 "cells": [
  {
   "cell_type": "code",
   "execution_count": 6,
   "metadata": {},
   "outputs": [],
   "source": [
    "from imutils import paths\n",
    "import argparse\n",
    "import requests\n",
    "import cv2\n",
    "import os"
   ]
  },
  {
   "cell_type": "code",
   "execution_count": 7,
   "metadata": {},
   "outputs": [
    {
     "name": "stderr",
     "output_type": "stream",
     "text": [
      "usage: ipykernel_launcher.py [-h] -u URLS -o OUTPUT\n",
      "ipykernel_launcher.py: error: the following arguments are required: -u/--urls, -o/--output\n"
     ]
    },
    {
     "ename": "SystemExit",
     "evalue": "2",
     "output_type": "error",
     "traceback": [
      "An exception has occurred, use %tb to see the full traceback.\n",
      "\u001b[1;31mSystemExit\u001b[0m\u001b[1;31m:\u001b[0m 2\n"
     ]
    }
   ],
   "source": [
    "# construct the argument parse and parse the arguments\n",
    "ap = argparse.ArgumentParser()\n",
    "ap.add_argument(\"-u\", \"--urls\", required=True,\n",
    "\thelp=\"path to file containing image URLs\")\n",
    "ap.add_argument(\"-o\", \"--output\", required=True,\n",
    "\thelp=\"path to output directory of images\")\n",
    "args = vars(ap.parse_args())\n",
    "# grab the list of URLs from the input file, then initialize the\n",
    "# total number of images downloaded thus far\n",
    "rows = open(args[\"urls\"]).read().strip().split(\"\\n\")\n",
    "total = 0"
   ]
  },
  {
   "cell_type": "code",
   "execution_count": 8,
   "metadata": {},
   "outputs": [
    {
     "ename": "NameError",
     "evalue": "name 'rows' is not defined",
     "output_type": "error",
     "traceback": [
      "\u001b[1;31m---------------------------------------------------------------------------\u001b[0m",
      "\u001b[1;31mNameError\u001b[0m                                 Traceback (most recent call last)",
      "\u001b[1;32m<ipython-input-8-326f7f8767d3>\u001b[0m in \u001b[0;36m<module>\u001b[1;34m\u001b[0m\n\u001b[0;32m      1\u001b[0m \u001b[1;31m# loop the URLs\u001b[0m\u001b[1;33m\u001b[0m\u001b[1;33m\u001b[0m\u001b[1;33m\u001b[0m\u001b[0m\n\u001b[1;32m----> 2\u001b[1;33m \u001b[1;32mfor\u001b[0m \u001b[0murl\u001b[0m \u001b[1;32min\u001b[0m \u001b[0mrows\u001b[0m\u001b[1;33m:\u001b[0m\u001b[1;33m\u001b[0m\u001b[1;33m\u001b[0m\u001b[0m\n\u001b[0m\u001b[0;32m      3\u001b[0m         \u001b[1;32mtry\u001b[0m\u001b[1;33m:\u001b[0m\u001b[1;33m\u001b[0m\u001b[1;33m\u001b[0m\u001b[0m\n\u001b[0;32m      4\u001b[0m                 \u001b[1;31m# try to download the image\u001b[0m\u001b[1;33m\u001b[0m\u001b[1;33m\u001b[0m\u001b[1;33m\u001b[0m\u001b[0m\n\u001b[0;32m      5\u001b[0m                 \u001b[0mr\u001b[0m \u001b[1;33m=\u001b[0m \u001b[0mrequests\u001b[0m\u001b[1;33m.\u001b[0m\u001b[0mget\u001b[0m\u001b[1;33m(\u001b[0m\u001b[0murl\u001b[0m\u001b[1;33m,\u001b[0m \u001b[0mtimeout\u001b[0m\u001b[1;33m=\u001b[0m\u001b[1;36m60\u001b[0m\u001b[1;33m)\u001b[0m\u001b[1;33m\u001b[0m\u001b[1;33m\u001b[0m\u001b[0m\n",
      "\u001b[1;31mNameError\u001b[0m: name 'rows' is not defined"
     ]
    }
   ],
   "source": [
    "# loop the URLs\n",
    "for url in rows:\n",
    "\ttry:\n",
    "\t\t# try to download the image\n",
    "\t\tr = requests.get(url, timeout=60)\n",
    "\t\t# save the image to disk\n",
    "\t\tp = os.path.sep.join([args[\"output\"], \"{}.jpg\".format(\n",
    "\t\t\tstr(total).zfill(8))])\n",
    "\t\tf = open(p, \"wb\")\n",
    "\t\tf.write(r.content)\n",
    "\t\tf.close()\n",
    "\t\t# update the counter\n",
    "\t\tprint(\"[INFO] downloaded: {}\".format(p))\n",
    "\t\ttotal += 1\n",
    "\t# handle if any exceptions are thrown during the download process\n",
    "\texcept:\n",
    "\t\tprint(\"[INFO] error downloading {}...skipping\".format(p))\n",
    "\n",
    "# loop over the image paths we just downloaded\n",
    "for imagePath in paths.list_images(args[\"output\"]):\n",
    "\t# initialize if the image should be deleted or not\n",
    "\tdelete = False\n",
    "\t# try to load the image\n",
    "\ttry:\n",
    "\t\timage = cv2.imread(imagePath)\n",
    "\t\t# if the image is `None` then we could not properly load it\n",
    "\t\t# from disk, so delete it\n",
    "\t\tif image is None:\n",
    "\t\t\tdelete = True\n",
    "\t# if OpenCV cannot load the image then the image is likely\n",
    "\t# corrupt so we should delete it\n",
    "\texcept:\n",
    "\t\tprint(\"Except\")\n",
    "\t\tdelete = True\n",
    "\t# check to see if the image should be deleted\n",
    "\tif delete:\n",
    "\t\tprint(\"[INFO] deleting {}\".format(imagePath))\n",
    "\t\tos.remove(imagePath)\n",
    "        \n"
   ]
  },
  {
   "cell_type": "code",
   "execution_count": null,
   "metadata": {},
   "outputs": [],
   "source": []
  }
 ],
 "metadata": {
  "kernelspec": {
   "display_name": "Python 3 (ipykernel)",
   "language": "python",
   "name": "python3"
  },
  "language_info": {
   "codemirror_mode": {
    "name": "ipython",
    "version": 3
   },
   "file_extension": ".py",
   "mimetype": "text/x-python",
   "name": "python",
   "nbconvert_exporter": "python",
   "pygments_lexer": "ipython3",
   "version": "3.11.5"
  }
 },
 "nbformat": 4,
 "nbformat_minor": 4
}
